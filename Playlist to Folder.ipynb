{
 "cells": [
  {
   "cell_type": "markdown",
   "metadata": {},
   "source": [
    "# How to export your music"
   ]
  },
  {
   "cell_type": "markdown",
   "metadata": {},
   "source": [
    "First, set ```path_playlist_file``` according to where your file is located. This can easily be done by clicking the path bar in Windows Explorer, copying the path, pasting it down below and replacing all backslashes (\\\\) by double backslashes.\n",
    "\n",
    "Be aware that the file ends on \".m3u.ppo\" and that this suffix must also be pasted."
   ]
  },
  {
   "cell_type": "code",
   "execution_count": 1,
   "metadata": {},
   "outputs": [],
   "source": [
    "# path_playlist_file = 'C:\\\\Users\\\\Samuel Vilz\\\\Downloads\\\\Telegram Desktop\\\\Paaddi.m3u.ppo'\n",
    "path_playlist_file = ''"
   ]
  },
  {
   "cell_type": "markdown",
   "metadata": {},
   "source": [
    "Next, take a look at the content of your playlist:"
   ]
  },
  {
   "cell_type": "code",
   "execution_count": 2,
   "metadata": {},
   "outputs": [
    {
     "data": {
      "text/plain": [
       "['#EXTM3U\\n',\n",
       " '#EXTINF:250,David Holmes - $160 Million Chinese Man\\n',\n",
       " \"/PlayerPro Directory/Music/Ocean's Eleven/18 - Soundtrack - $160 Million Chinese Man.mp3\\n\",\n",
       " '#EXTINF:101,Käptn Peng, Die Tentakel von Delphi - 1234PengPengPeng\\n',\n",
       " '/PlayerPro Directory/Music/Käptn Peng, Die Tentakel von Delphi/Expedition ins O/13 - 1234PengPengPeng.mp3\\n',\n",
       " '#EXTINF:206,Gorillaz - 19-2000 (Soulchild Remix)\\n',\n",
       " '/PlayerPro Directory/Music/Gorillaz/2 - Kompilationen/2001 - G Sides/01 - 19-2000 (Soulchild Remix) - Gorillaz - G Sides.mp3\\n',\n",
       " '#EXTINF:135,VGR - Amalgam (Remix) - Steven Universe\\n',\n",
       " '/PlayerPro Directory/Music/VGR/Steven Universe - Amalgam (Remix).mp3\\n']"
      ]
     },
     "execution_count": 2,
     "metadata": {},
     "output_type": "execute_result"
    }
   ],
   "source": [
    "file = open(path_playlist_file, 'r', encoding=\"utf-8\")\n",
    "lines = file.readlines()\n",
    "lines[:9]"
   ]
  },
  {
   "cell_type": "markdown",
   "metadata": {},
   "source": [
    "Above is an excerpt of your playlist file. It starts with one line reading ```'EXTM3U\\n'```. Please evaluate if that's the case:"
   ]
  },
  {
   "cell_type": "code",
   "execution_count": 3,
   "metadata": {},
   "outputs": [
    {
     "data": {
      "text/plain": [
       "'#EXTM3U\\n'"
      ]
     },
     "execution_count": 3,
     "metadata": {},
     "output_type": "execute_result"
    }
   ],
   "source": [
    "lines[0]"
   ]
  },
  {
   "cell_type": "markdown",
   "metadata": {},
   "source": [
    "From then on, it lists your songs in pairs:\n",
    "\n",
    "The entry at an odd number reading ```'EXTINF:```, followed by the length of the track in seconds, a comma, the title of the track, and then ```\\n'```.\n",
    "\n",
    "The entry after that contains the path of the track file, followed by a ```\\n```\n",
    "\n",
    "Please evaluate this again:"
   ]
  },
  {
   "cell_type": "code",
   "execution_count": 4,
   "metadata": {},
   "outputs": [
    {
     "data": {
      "text/plain": [
       "'#EXTINF:250,David Holmes - $160 Million Chinese Man\\n'"
      ]
     },
     "execution_count": 4,
     "metadata": {},
     "output_type": "execute_result"
    }
   ],
   "source": [
    "lines[1]"
   ]
  },
  {
   "cell_type": "code",
   "execution_count": 5,
   "metadata": {
    "scrolled": true
   },
   "outputs": [
    {
     "data": {
      "text/plain": [
       "\"/PlayerPro Directory/Music/Ocean's Eleven/18 - Soundtrack - $160 Million Chinese Man.mp3\\n\""
      ]
     },
     "execution_count": 5,
     "metadata": {},
     "output_type": "execute_result"
    }
   ],
   "source": [
    "lines[2]"
   ]
  },
  {
   "cell_type": "markdown",
   "metadata": {},
   "source": [
    "Now comes your part: Set ```path_music``` to be the directory/folder your music is stored in.\n",
    "\n",
    "Make it so that in ```path_music```, the full path returned by ```lines[2]``` is directly located.\n",
    "\n",
    "In my case, ```\"Player Pro Directory\"``` is a direct subdirectoy of ```D:\\2020.06.14 PlayerPro Backup\\```, so I set ```path_music``` to ```'D:\\\\2020.06.14 PlayerPro Backup'```. Please mind to double down on the backslashes again, and not to end ```path_music``` on backslashes:"
   ]
  },
  {
   "cell_type": "code",
   "execution_count": 6,
   "metadata": {},
   "outputs": [],
   "source": [
    "# path_music = 'D:\\\\2020.06.14 PlayerPro Backup'\n",
    "path_music = ''"
   ]
  },
  {
   "cell_type": "markdown",
   "metadata": {},
   "source": [
    "Now finally set ```path_where_to``` to the directory you want to export your playlist tracks to. This program will not create a directory, so do create it yourself before continuing this workflow (and remember to add double backslashes to the end of the directory name)."
   ]
  },
  {
   "cell_type": "code",
   "execution_count": 13,
   "metadata": {},
   "outputs": [],
   "source": [
    "# path_where_to = 'C:\\\\Users\\\\Samuel Vilz\\\\Desktop\\\\Target folder\\\\'\n",
    "path_where_to = ''"
   ]
  },
  {
   "cell_type": "markdown",
   "metadata": {},
   "source": [
    "The next cell extracts all the path strings from your playlist file. Uncomment the second line for an overview of your tracks."
   ]
  },
  {
   "cell_type": "code",
   "execution_count": 17,
   "metadata": {},
   "outputs": [],
   "source": [
    "path_list = [path_music+lines[x].replace('\\n','').replace('/', '\\\\') for x in range(1,len(lines)) if x%2==0]\n",
    "# len(path_list), path_list"
   ]
  },
  {
   "cell_type": "markdown",
   "metadata": {},
   "source": [
    "Now we import code to copy files"
   ]
  },
  {
   "cell_type": "code",
   "execution_count": 18,
   "metadata": {},
   "outputs": [],
   "source": [
    "from shutil import copyfile\n",
    "import re\n",
    "import math"
   ]
  },
  {
   "cell_type": "markdown",
   "metadata": {},
   "source": [
    "The following calculation is needed to ensure that the order of your playlist tracks is conserved. The files will be renamed in order to sort them correctly."
   ]
  },
  {
   "cell_type": "code",
   "execution_count": 19,
   "metadata": {},
   "outputs": [
    {
     "data": {
      "text/plain": [
       "(146, 3)"
      ]
     },
     "execution_count": 19,
     "metadata": {},
     "output_type": "execute_result"
    }
   ],
   "source": [
    "num_digits = int(math.log10(len(path_list)+1))+1\n",
    "len(path_list), num_digits"
   ]
  },
  {
   "cell_type": "markdown",
   "metadata": {},
   "source": [
    "Now comes the copying. Uncomment the ```print``` line to watch the copying progress."
   ]
  },
  {
   "cell_type": "code",
   "execution_count": 20,
   "metadata": {
    "scrolled": true
   },
   "outputs": [],
   "source": [
    "for i in range(len(path_list)):\n",
    "    src = path_list[i]\n",
    "#     print(path_where_to+str(i+1).zfill(num_digits)+'. '+re.match('.+\\\\\\\\(.+)',src).group(1))\n",
    "    copyfile(src, path_where_to+str(i+1).zfill(num_digits)+'. '+re.match('.+\\\\\\\\(.+)',src).group(1))"
   ]
  },
  {
   "cell_type": "markdown",
   "metadata": {},
   "source": [
    "And you're set! You will find your files copied to the ```path_where_to``` directory. The copying process shouldn't take much longer than reading this text, depending on the number of tracks (rough estimate: The number of tracks, divided by 10, in seconds)"
   ]
  }
 ],
 "metadata": {
  "kernelspec": {
   "display_name": "Python 3",
   "language": "python",
   "name": "python3"
  },
  "language_info": {
   "codemirror_mode": {
    "name": "ipython",
    "version": 3
   },
   "file_extension": ".py",
   "mimetype": "text/x-python",
   "name": "python",
   "nbconvert_exporter": "python",
   "pygments_lexer": "ipython3",
   "version": "3.7.6"
  }
 },
 "nbformat": 4,
 "nbformat_minor": 4
}
